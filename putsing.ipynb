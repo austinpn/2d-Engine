{
 "metadata": {
  "language_info": {
   "codemirror_mode": {
    "name": "ipython",
    "version": 3
   },
   "file_extension": ".py",
   "mimetype": "text/x-python",
   "name": "python",
   "nbconvert_exporter": "python",
   "pygments_lexer": "ipython3",
   "version": "3.7.5-final"
  },
  "orig_nbformat": 2,
  "kernelspec": {
   "name": "python3",
   "display_name": "Python 3",
   "language": "python"
  }
 },
 "nbformat": 4,
 "nbformat_minor": 2,
 "cells": [
  {
   "cell_type": "code",
   "execution_count": 5,
   "metadata": {},
   "outputs": [],
   "source": [
    "class Velocity():\n",
    "    def __init__(self, *vals):\n",
    "        self.__vector = list(vals)\n",
    "        \n",
    "        self.__num_nonzero = 0\n",
    "        #initial zero check\n",
    "        for val in self.__vector:\n",
    "            if(val!=0):\n",
    "                self.__is_mobile = True\n",
    "                self.__num_nonzero+=1\n",
    "\n",
    "    def __setitem__(self, i, val):\n",
    "        was_zero = self.__vector[i]==0\n",
    "        self.__vector[i] = val\n",
    "        if(was_zero and self.__vector[i]!=0):\n",
    "            self.__num_nonzero+=1\n",
    "        elif(was_zero and self.__vector[i]==0):\n",
    "            self.__num_nonzero-=1\n",
    "    \n",
    "    @property\n",
    "    def dimension(self):\n",
    "        return len(self.__vector)\n",
    "    \n",
    "    def __len__(self):\n",
    "        return len(self.dimension)\n",
    "\n",
    "    def __iter__(self):\n",
    "        return self.__vector\n",
    "    \n",
    "    @property\n",
    "    def is_mobile(self):\n",
    "        return self.__num_nonzero==0\n"
   ]
  },
  {
   "cell_type": "code",
   "execution_count": 6,
   "metadata": {},
   "outputs": [],
   "source": [
    "tester = Velocity(1,0,1)"
   ]
  },
  {
   "cell_type": "code",
   "execution_count": 7,
   "metadata": {},
   "outputs": [
    {
     "output_type": "stream",
     "name": "stdout",
     "text": [
      "False\n"
     ]
    }
   ],
   "source": [
    "print(tester.is_mobile)"
   ]
  },
  {
   "cell_type": "code",
   "execution_count": 8,
   "metadata": {},
   "outputs": [
    {
     "output_type": "stream",
     "name": "stdout",
     "text": [
      "1\n0\n1\n"
     ]
    }
   ],
   "source": [
    "for val in tester:\n",
    "    print(val)"
   ]
  },
  {
   "cell_type": "code",
   "execution_count": null,
   "metadata": {},
   "outputs": [],
   "source": []
  }
 ]
}